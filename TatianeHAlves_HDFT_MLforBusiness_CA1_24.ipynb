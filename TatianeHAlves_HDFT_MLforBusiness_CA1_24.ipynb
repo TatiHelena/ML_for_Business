{
 "cells": [
  {
   "cell_type": "code",
   "execution_count": 1,
   "id": "5d15a8d7",
   "metadata": {},
   "outputs": [],
   "source": [
    "#Testing "
   ]
  },
  {
   "cell_type": "code",
   "execution_count": 2,
   "id": "d18778fb",
   "metadata": {},
   "outputs": [],
   "source": [
    "import pandas as pd \n",
    "import numpy as np \n",
    "import matplotlib.pyplot as plt  \n",
    "\n"
   ]
  },
  {
   "cell_type": "markdown",
   "id": "78580c5f-a62c-4b79-a6ea-7d5ab5fbc34f",
   "metadata": {},
   "source": [
    "### Read dataset "
   ]
  },
  {
   "cell_type": "code",
   "execution_count": 3,
   "id": "6f94e830-6886-480e-97c6-06cabfcc195b",
   "metadata": {},
   "outputs": [],
   "source": [
    "df = pd.read_csv('BTC-USD.csv')"
   ]
  },
  {
   "cell_type": "markdown",
   "id": "82ae330c-9cf8-461f-9f53-4e0b94e659dd",
   "metadata": {},
   "source": [
    "### Visualizing firt row of the dataset "
   ]
  },
  {
   "cell_type": "code",
   "execution_count": 4,
   "id": "e4c55ba3-68a0-46bb-aff8-76ebeee75189",
   "metadata": {},
   "outputs": [
    {
     "data": {
      "text/html": [
       "<div>\n",
       "<style scoped>\n",
       "    .dataframe tbody tr th:only-of-type {\n",
       "        vertical-align: middle;\n",
       "    }\n",
       "\n",
       "    .dataframe tbody tr th {\n",
       "        vertical-align: top;\n",
       "    }\n",
       "\n",
       "    .dataframe thead th {\n",
       "        text-align: right;\n",
       "    }\n",
       "</style>\n",
       "<table border=\"1\" class=\"dataframe\">\n",
       "  <thead>\n",
       "    <tr style=\"text-align: right;\">\n",
       "      <th></th>\n",
       "      <th>Date</th>\n",
       "      <th>Open</th>\n",
       "      <th>High</th>\n",
       "      <th>Low</th>\n",
       "      <th>Close</th>\n",
       "      <th>Adj Close</th>\n",
       "      <th>Volume</th>\n",
       "    </tr>\n",
       "  </thead>\n",
       "  <tbody>\n",
       "    <tr>\n",
       "      <th>0</th>\n",
       "      <td>2023-04-02</td>\n",
       "      <td>28462.845703</td>\n",
       "      <td>28518.958984</td>\n",
       "      <td>27884.087891</td>\n",
       "      <td>28199.308594</td>\n",
       "      <td>28199.308594</td>\n",
       "      <td>12284641999</td>\n",
       "    </tr>\n",
       "    <tr>\n",
       "      <th>1</th>\n",
       "      <td>2023-04-03</td>\n",
       "      <td>28183.080078</td>\n",
       "      <td>28475.623047</td>\n",
       "      <td>27276.720703</td>\n",
       "      <td>27790.220703</td>\n",
       "      <td>27790.220703</td>\n",
       "      <td>19556501327</td>\n",
       "    </tr>\n",
       "    <tr>\n",
       "      <th>2</th>\n",
       "      <td>2023-04-04</td>\n",
       "      <td>27795.273438</td>\n",
       "      <td>28433.742188</td>\n",
       "      <td>27681.304688</td>\n",
       "      <td>28168.089844</td>\n",
       "      <td>28168.089844</td>\n",
       "      <td>15284538859</td>\n",
       "    </tr>\n",
       "    <tr>\n",
       "      <th>3</th>\n",
       "      <td>2023-04-05</td>\n",
       "      <td>28169.726563</td>\n",
       "      <td>28739.238281</td>\n",
       "      <td>27843.763672</td>\n",
       "      <td>28177.984375</td>\n",
       "      <td>28177.984375</td>\n",
       "      <td>17052315986</td>\n",
       "    </tr>\n",
       "    <tr>\n",
       "      <th>4</th>\n",
       "      <td>2023-04-06</td>\n",
       "      <td>28175.226563</td>\n",
       "      <td>28178.384766</td>\n",
       "      <td>27738.759766</td>\n",
       "      <td>28044.140625</td>\n",
       "      <td>28044.140625</td>\n",
       "      <td>13837809380</td>\n",
       "    </tr>\n",
       "  </tbody>\n",
       "</table>\n",
       "</div>"
      ],
      "text/plain": [
       "         Date          Open          High           Low         Close  \\\n",
       "0  2023-04-02  28462.845703  28518.958984  27884.087891  28199.308594   \n",
       "1  2023-04-03  28183.080078  28475.623047  27276.720703  27790.220703   \n",
       "2  2023-04-04  27795.273438  28433.742188  27681.304688  28168.089844   \n",
       "3  2023-04-05  28169.726563  28739.238281  27843.763672  28177.984375   \n",
       "4  2023-04-06  28175.226563  28178.384766  27738.759766  28044.140625   \n",
       "\n",
       "      Adj Close       Volume  \n",
       "0  28199.308594  12284641999  \n",
       "1  27790.220703  19556501327  \n",
       "2  28168.089844  15284538859  \n",
       "3  28177.984375  17052315986  \n",
       "4  28044.140625  13837809380  "
      ]
     },
     "execution_count": 4,
     "metadata": {},
     "output_type": "execute_result"
    }
   ],
   "source": [
    "df.head()"
   ]
  },
  {
   "cell_type": "markdown",
   "id": "df60db48-259b-497d-9b5e-bf2fcc0320ee",
   "metadata": {},
   "source": [
    "### Data information\n",
    "\n",
    "The dataset has 367 rows and 7 columns in which 5 has been defined as a float64, 1 feature as an int64 (Volume) and 1 as an object (Date). \n",
    "\n",
    "There is no missing values in any columns in the dataset. "
   ]
  },
  {
   "cell_type": "code",
   "execution_count": 6,
   "id": "6631db2e-eeb8-4100-acf9-4b7a10320386",
   "metadata": {},
   "outputs": [
    {
     "name": "stdout",
     "output_type": "stream",
     "text": [
      "<class 'pandas.core.frame.DataFrame'>\n",
      "RangeIndex: 367 entries, 0 to 366\n",
      "Data columns (total 7 columns):\n",
      " #   Column     Non-Null Count  Dtype  \n",
      "---  ------     --------------  -----  \n",
      " 0   Date       367 non-null    object \n",
      " 1   Open       367 non-null    float64\n",
      " 2   High       367 non-null    float64\n",
      " 3   Low        367 non-null    float64\n",
      " 4   Close      367 non-null    float64\n",
      " 5   Adj Close  367 non-null    float64\n",
      " 6   Volume     367 non-null    int64  \n",
      "dtypes: float64(5), int64(1), object(1)\n",
      "memory usage: 20.2+ KB\n"
     ]
    }
   ],
   "source": [
    "df.info()"
   ]
  },
  {
   "cell_type": "markdown",
   "id": "f6c58db5-6cd3-4310-87ce-83239026f7c8",
   "metadata": {},
   "source": [
    "### Transforming Volume feature into float64 to make the dataset uniform"
   ]
  },
  {
   "cell_type": "code",
   "execution_count": 10,
   "id": "56723de1-7324-4866-a94f-c5b58181ffee",
   "metadata": {},
   "outputs": [
    {
     "name": "stdout",
     "output_type": "stream",
     "text": [
      "<class 'pandas.core.frame.DataFrame'>\n",
      "RangeIndex: 367 entries, 0 to 366\n",
      "Data columns (total 7 columns):\n",
      " #   Column     Non-Null Count  Dtype  \n",
      "---  ------     --------------  -----  \n",
      " 0   Date       367 non-null    object \n",
      " 1   Open       367 non-null    float64\n",
      " 2   High       367 non-null    float64\n",
      " 3   Low        367 non-null    float64\n",
      " 4   Close      367 non-null    float64\n",
      " 5   Adj Close  367 non-null    float64\n",
      " 6   Volume     367 non-null    float64\n",
      "dtypes: float64(6), object(1)\n",
      "memory usage: 20.2+ KB\n"
     ]
    }
   ],
   "source": [
    "df['Volume'] = df['Volume'].astype('float')\n",
    "df.info()"
   ]
  },
  {
   "cell_type": "markdown",
   "id": "cd7999fc-a974-4759-9653-6b70e5a6d5a9",
   "metadata": {},
   "source": [
    "### Statistical summary \n",
    "\n",
    "All the columns have the count of 367\n",
    "\n",
    "In the column Open the mean represents the value of 36566 while the median is 30315 which has a significant distance between them. The Close feature has similar values, it has mean of 36668 and median of 30318. \n",
    "The minimum value in the features vary from 24797 to 25121, whereas maximum values are 71334 to 73750. "
   ]
  },
  {
   "cell_type": "code",
   "execution_count": 11,
   "id": "6996b4e3-bbec-4a63-a140-945bb8c0c198",
   "metadata": {},
   "outputs": [
    {
     "data": {
      "text/html": [
       "<div>\n",
       "<style scoped>\n",
       "    .dataframe tbody tr th:only-of-type {\n",
       "        vertical-align: middle;\n",
       "    }\n",
       "\n",
       "    .dataframe tbody tr th {\n",
       "        vertical-align: top;\n",
       "    }\n",
       "\n",
       "    .dataframe thead th {\n",
       "        text-align: right;\n",
       "    }\n",
       "</style>\n",
       "<table border=\"1\" class=\"dataframe\">\n",
       "  <thead>\n",
       "    <tr style=\"text-align: right;\">\n",
       "      <th></th>\n",
       "      <th>Open</th>\n",
       "      <th>High</th>\n",
       "      <th>Low</th>\n",
       "      <th>Close</th>\n",
       "      <th>Adj Close</th>\n",
       "      <th>Volume</th>\n",
       "    </tr>\n",
       "  </thead>\n",
       "  <tbody>\n",
       "    <tr>\n",
       "      <th>count</th>\n",
       "      <td>367.000000</td>\n",
       "      <td>367.000000</td>\n",
       "      <td>367.000000</td>\n",
       "      <td>367.000000</td>\n",
       "      <td>367.000000</td>\n",
       "      <td>3.670000e+02</td>\n",
       "    </tr>\n",
       "    <tr>\n",
       "      <th>mean</th>\n",
       "      <td>36566.133366</td>\n",
       "      <td>37245.166175</td>\n",
       "      <td>35951.784331</td>\n",
       "      <td>36668.765678</td>\n",
       "      <td>36668.765678</td>\n",
       "      <td>2.054025e+10</td>\n",
       "    </tr>\n",
       "    <tr>\n",
       "      <th>std</th>\n",
       "      <td>12297.066565</td>\n",
       "      <td>12727.681790</td>\n",
       "      <td>11862.108972</td>\n",
       "      <td>12383.550524</td>\n",
       "      <td>12383.550524</td>\n",
       "      <td>1.346815e+10</td>\n",
       "    </tr>\n",
       "    <tr>\n",
       "      <th>min</th>\n",
       "      <td>25121.673828</td>\n",
       "      <td>25735.308594</td>\n",
       "      <td>24797.167969</td>\n",
       "      <td>25124.675781</td>\n",
       "      <td>25124.675781</td>\n",
       "      <td>5.331173e+09</td>\n",
       "    </tr>\n",
       "    <tr>\n",
       "      <th>25%</th>\n",
       "      <td>27552.037110</td>\n",
       "      <td>27984.726562</td>\n",
       "      <td>27100.661133</td>\n",
       "      <td>27557.231445</td>\n",
       "      <td>27557.231445</td>\n",
       "      <td>1.216358e+10</td>\n",
       "    </tr>\n",
       "    <tr>\n",
       "      <th>50%</th>\n",
       "      <td>30315.976563</td>\n",
       "      <td>30636.029297</td>\n",
       "      <td>29966.386719</td>\n",
       "      <td>30318.496094</td>\n",
       "      <td>30318.496094</td>\n",
       "      <td>1.649319e+10</td>\n",
       "    </tr>\n",
       "    <tr>\n",
       "      <th>75%</th>\n",
       "      <td>42649.451172</td>\n",
       "      <td>43357.119140</td>\n",
       "      <td>41852.763672</td>\n",
       "      <td>42700.660157</td>\n",
       "      <td>42700.660157</td>\n",
       "      <td>2.387294e+10</td>\n",
       "    </tr>\n",
       "    <tr>\n",
       "      <th>max</th>\n",
       "      <td>73079.375000</td>\n",
       "      <td>73750.070313</td>\n",
       "      <td>71334.093750</td>\n",
       "      <td>73083.500000</td>\n",
       "      <td>73083.500000</td>\n",
       "      <td>1.028029e+11</td>\n",
       "    </tr>\n",
       "  </tbody>\n",
       "</table>\n",
       "</div>"
      ],
      "text/plain": [
       "               Open          High           Low         Close     Adj Close  \\\n",
       "count    367.000000    367.000000    367.000000    367.000000    367.000000   \n",
       "mean   36566.133366  37245.166175  35951.784331  36668.765678  36668.765678   \n",
       "std    12297.066565  12727.681790  11862.108972  12383.550524  12383.550524   \n",
       "min    25121.673828  25735.308594  24797.167969  25124.675781  25124.675781   \n",
       "25%    27552.037110  27984.726562  27100.661133  27557.231445  27557.231445   \n",
       "50%    30315.976563  30636.029297  29966.386719  30318.496094  30318.496094   \n",
       "75%    42649.451172  43357.119140  41852.763672  42700.660157  42700.660157   \n",
       "max    73079.375000  73750.070313  71334.093750  73083.500000  73083.500000   \n",
       "\n",
       "             Volume  \n",
       "count  3.670000e+02  \n",
       "mean   2.054025e+10  \n",
       "std    1.346815e+10  \n",
       "min    5.331173e+09  \n",
       "25%    1.216358e+10  \n",
       "50%    1.649319e+10  \n",
       "75%    2.387294e+10  \n",
       "max    1.028029e+11  "
      ]
     },
     "execution_count": 11,
     "metadata": {},
     "output_type": "execute_result"
    }
   ],
   "source": [
    "df.describe()"
   ]
  },
  {
   "cell_type": "code",
   "execution_count": null,
   "id": "945976f6-e45e-4a0a-ba0c-1f56e8070da8",
   "metadata": {},
   "outputs": [],
   "source": []
  },
  {
   "cell_type": "code",
   "execution_count": null,
   "id": "265f1b04-338f-4366-9c83-0a790f72aa98",
   "metadata": {},
   "outputs": [],
   "source": []
  }
 ],
 "metadata": {
  "kernelspec": {
   "display_name": "Python 3 (ipykernel)",
   "language": "python",
   "name": "python3"
  },
  "language_info": {
   "codemirror_mode": {
    "name": "ipython",
    "version": 3
   },
   "file_extension": ".py",
   "mimetype": "text/x-python",
   "name": "python",
   "nbconvert_exporter": "python",
   "pygments_lexer": "ipython3",
   "version": "3.11.0"
  }
 },
 "nbformat": 4,
 "nbformat_minor": 5
}
