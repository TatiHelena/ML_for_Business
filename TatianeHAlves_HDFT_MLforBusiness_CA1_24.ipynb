{
 "cells": [
  {
   "cell_type": "markdown",
   "id": "a368d748-0a8f-49e1-8f41-3ce8909a3dfc",
   "metadata": {},
   "source": [
    "## Machine Learning - Unsupervised method\n",
    "\n",
    "Problem domain: Analysis of Bitcoin stock market from 02th April 2023 to 02nd April 2024\n",
    "\n",
    "Bitcoin (BTC) is a cryptocurrency launched in 2010. Users are able to generate BTC through the process of mining. Bitcoin has a current supply of 19,682,031. The last known price of Bitcoin is 64,315.76152533 USD and is down -4.63 over the last 24 hours. It is currently trading on 10992 active market(s) with $58,106,794,683.09 traded over the last 24 hours. More information can be found at https://bitcoin.org/ (“Bitcoin USD (BTC-USD) Stock Price, Quote, History & News”)\n",
    "\n",
    "The objective of this project is implement unsupervised ML learning method using K-Means and DBSCAN clustering algorithms which will try to recognize patterns into the dataset. \n"
   ]
  },
  {
   "cell_type": "markdown",
   "id": "4e503334-36df-4dc6-b4c3-7013d305521c",
   "metadata": {},
   "source": [
    "How does the price develop within the year, so are there recurring patterns within a year?\n",
    "\n",
    "Are there specific months or even days of the week when the price tends to fall or rise on average?\n",
    "\n",
    "Which extreme values can be found in the data set, is there any specific the reason for this??"
   ]
  },
  {
   "cell_type": "markdown",
   "id": "8afd73d3-d648-48cc-95e8-65f73b56a3b4",
   "metadata": {},
   "source": [
    "### Importing libraries to perform data manaipulation and anaylysis  "
   ]
  },
  {
   "cell_type": "code",
   "execution_count": 1,
   "id": "d18778fb",
   "metadata": {},
   "outputs": [],
   "source": [
    "import pandas as pd \n",
    "import numpy as np \n",
    "import matplotlib.pyplot as plt  \n",
    "import seaborn as sns \n",
    "\n",
    "import warnings\n",
    "warnings.filterwarnings(\"ignore\")\n",
    "\n",
    "\n",
    "\n"
   ]
  },
  {
   "cell_type": "markdown",
   "id": "78580c5f-a62c-4b79-a6ea-7d5ab5fbc34f",
   "metadata": {},
   "source": [
    "### Read dataset "
   ]
  },
  {
   "cell_type": "code",
   "execution_count": 2,
   "id": "6f94e830-6886-480e-97c6-06cabfcc195b",
   "metadata": {},
   "outputs": [],
   "source": [
    "df = pd.read_csv('BTC-USD.csv')"
   ]
  },
  {
   "cell_type": "markdown",
   "id": "82ae330c-9cf8-461f-9f53-4e0b94e659dd",
   "metadata": {},
   "source": [
    "### Visualizing firt row of the dataset "
   ]
  },
  {
   "cell_type": "code",
   "execution_count": 3,
   "id": "e4c55ba3-68a0-46bb-aff8-76ebeee75189",
   "metadata": {},
   "outputs": [
    {
     "data": {
      "text/html": [
       "<div>\n",
       "<style scoped>\n",
       "    .dataframe tbody tr th:only-of-type {\n",
       "        vertical-align: middle;\n",
       "    }\n",
       "\n",
       "    .dataframe tbody tr th {\n",
       "        vertical-align: top;\n",
       "    }\n",
       "\n",
       "    .dataframe thead th {\n",
       "        text-align: right;\n",
       "    }\n",
       "</style>\n",
       "<table border=\"1\" class=\"dataframe\">\n",
       "  <thead>\n",
       "    <tr style=\"text-align: right;\">\n",
       "      <th></th>\n",
       "      <th>Date</th>\n",
       "      <th>Open</th>\n",
       "      <th>High</th>\n",
       "      <th>Low</th>\n",
       "      <th>Close</th>\n",
       "      <th>Adj Close</th>\n",
       "      <th>Volume</th>\n",
       "    </tr>\n",
       "  </thead>\n",
       "  <tbody>\n",
       "    <tr>\n",
       "      <th>0</th>\n",
       "      <td>2023-04-02</td>\n",
       "      <td>28462.845703</td>\n",
       "      <td>28518.958984</td>\n",
       "      <td>27884.087891</td>\n",
       "      <td>28199.308594</td>\n",
       "      <td>28199.308594</td>\n",
       "      <td>12284641999</td>\n",
       "    </tr>\n",
       "    <tr>\n",
       "      <th>1</th>\n",
       "      <td>2023-04-03</td>\n",
       "      <td>28183.080078</td>\n",
       "      <td>28475.623047</td>\n",
       "      <td>27276.720703</td>\n",
       "      <td>27790.220703</td>\n",
       "      <td>27790.220703</td>\n",
       "      <td>19556501327</td>\n",
       "    </tr>\n",
       "    <tr>\n",
       "      <th>2</th>\n",
       "      <td>2023-04-04</td>\n",
       "      <td>27795.273438</td>\n",
       "      <td>28433.742188</td>\n",
       "      <td>27681.304688</td>\n",
       "      <td>28168.089844</td>\n",
       "      <td>28168.089844</td>\n",
       "      <td>15284538859</td>\n",
       "    </tr>\n",
       "    <tr>\n",
       "      <th>3</th>\n",
       "      <td>2023-04-05</td>\n",
       "      <td>28169.726563</td>\n",
       "      <td>28739.238281</td>\n",
       "      <td>27843.763672</td>\n",
       "      <td>28177.984375</td>\n",
       "      <td>28177.984375</td>\n",
       "      <td>17052315986</td>\n",
       "    </tr>\n",
       "    <tr>\n",
       "      <th>4</th>\n",
       "      <td>2023-04-06</td>\n",
       "      <td>28175.226563</td>\n",
       "      <td>28178.384766</td>\n",
       "      <td>27738.759766</td>\n",
       "      <td>28044.140625</td>\n",
       "      <td>28044.140625</td>\n",
       "      <td>13837809380</td>\n",
       "    </tr>\n",
       "  </tbody>\n",
       "</table>\n",
       "</div>"
      ],
      "text/plain": [
       "         Date          Open          High           Low         Close  \\\n",
       "0  2023-04-02  28462.845703  28518.958984  27884.087891  28199.308594   \n",
       "1  2023-04-03  28183.080078  28475.623047  27276.720703  27790.220703   \n",
       "2  2023-04-04  27795.273438  28433.742188  27681.304688  28168.089844   \n",
       "3  2023-04-05  28169.726563  28739.238281  27843.763672  28177.984375   \n",
       "4  2023-04-06  28175.226563  28178.384766  27738.759766  28044.140625   \n",
       "\n",
       "      Adj Close       Volume  \n",
       "0  28199.308594  12284641999  \n",
       "1  27790.220703  19556501327  \n",
       "2  28168.089844  15284538859  \n",
       "3  28177.984375  17052315986  \n",
       "4  28044.140625  13837809380  "
      ]
     },
     "execution_count": 3,
     "metadata": {},
     "output_type": "execute_result"
    }
   ],
   "source": [
    "df.head()"
   ]
  },
  {
   "cell_type": "markdown",
   "id": "df60db48-259b-497d-9b5e-bf2fcc0320ee",
   "metadata": {},
   "source": [
    "### Data information\n",
    "\n",
    "The dataset has 367 rows and 7 columns in which 5 has been defined as a float64, 1 feature as an int64 (Volume) and 1 as an object (Date). \n",
    "\n",
    "There is no missing values in any columns in the dataset. "
   ]
  },
  {
   "cell_type": "code",
   "execution_count": 4,
   "id": "6631db2e-eeb8-4100-acf9-4b7a10320386",
   "metadata": {},
   "outputs": [
    {
     "name": "stdout",
     "output_type": "stream",
     "text": [
      "<class 'pandas.core.frame.DataFrame'>\n",
      "RangeIndex: 367 entries, 0 to 366\n",
      "Data columns (total 7 columns):\n",
      " #   Column     Non-Null Count  Dtype  \n",
      "---  ------     --------------  -----  \n",
      " 0   Date       367 non-null    object \n",
      " 1   Open       367 non-null    float64\n",
      " 2   High       367 non-null    float64\n",
      " 3   Low        367 non-null    float64\n",
      " 4   Close      367 non-null    float64\n",
      " 5   Adj Close  367 non-null    float64\n",
      " 6   Volume     367 non-null    int64  \n",
      "dtypes: float64(5), int64(1), object(1)\n",
      "memory usage: 20.2+ KB\n"
     ]
    }
   ],
   "source": [
    "df.info()"
   ]
  },
  {
   "cell_type": "markdown",
   "id": "f6c58db5-6cd3-4310-87ce-83239026f7c8",
   "metadata": {},
   "source": [
    "### Transforming Volume feature into float64 to make the dataset uniform"
   ]
  },
  {
   "cell_type": "code",
   "execution_count": 5,
   "id": "56723de1-7324-4866-a94f-c5b58181ffee",
   "metadata": {},
   "outputs": [
    {
     "name": "stdout",
     "output_type": "stream",
     "text": [
      "<class 'pandas.core.frame.DataFrame'>\n",
      "RangeIndex: 367 entries, 0 to 366\n",
      "Data columns (total 7 columns):\n",
      " #   Column     Non-Null Count  Dtype  \n",
      "---  ------     --------------  -----  \n",
      " 0   Date       367 non-null    object \n",
      " 1   Open       367 non-null    float64\n",
      " 2   High       367 non-null    float64\n",
      " 3   Low        367 non-null    float64\n",
      " 4   Close      367 non-null    float64\n",
      " 5   Adj Close  367 non-null    float64\n",
      " 6   Volume     367 non-null    float64\n",
      "dtypes: float64(6), object(1)\n",
      "memory usage: 20.2+ KB\n"
     ]
    }
   ],
   "source": [
    "df['Volume'] = df['Volume'].astype('float')\n",
    "df.info()"
   ]
  },
  {
   "cell_type": "markdown",
   "id": "cd7999fc-a974-4759-9653-6b70e5a6d5a9",
   "metadata": {},
   "source": [
    "### Statistical summary \n",
    "\n",
    "All the columns have the count of 367\n",
    "\n",
    "In the column Open the mean represents the value of 36566 while the median is 30315 which has a significant distance between them. The Close feature has similar values, it has mean of 36668 and median of 30318. \n",
    "The minimum value in the features vary from 24797 to 25121, whereas maximum values are 71334 to 73750. "
   ]
  },
  {
   "cell_type": "code",
   "execution_count": 6,
   "id": "6996b4e3-bbec-4a63-a140-945bb8c0c198",
   "metadata": {},
   "outputs": [
    {
     "data": {
      "text/html": [
       "<div>\n",
       "<style scoped>\n",
       "    .dataframe tbody tr th:only-of-type {\n",
       "        vertical-align: middle;\n",
       "    }\n",
       "\n",
       "    .dataframe tbody tr th {\n",
       "        vertical-align: top;\n",
       "    }\n",
       "\n",
       "    .dataframe thead th {\n",
       "        text-align: right;\n",
       "    }\n",
       "</style>\n",
       "<table border=\"1\" class=\"dataframe\">\n",
       "  <thead>\n",
       "    <tr style=\"text-align: right;\">\n",
       "      <th></th>\n",
       "      <th>Open</th>\n",
       "      <th>High</th>\n",
       "      <th>Low</th>\n",
       "      <th>Close</th>\n",
       "      <th>Adj Close</th>\n",
       "      <th>Volume</th>\n",
       "    </tr>\n",
       "  </thead>\n",
       "  <tbody>\n",
       "    <tr>\n",
       "      <th>count</th>\n",
       "      <td>367.000000</td>\n",
       "      <td>367.000000</td>\n",
       "      <td>367.000000</td>\n",
       "      <td>367.000000</td>\n",
       "      <td>367.000000</td>\n",
       "      <td>3.670000e+02</td>\n",
       "    </tr>\n",
       "    <tr>\n",
       "      <th>mean</th>\n",
       "      <td>36566.133366</td>\n",
       "      <td>37245.166175</td>\n",
       "      <td>35951.784331</td>\n",
       "      <td>36668.765678</td>\n",
       "      <td>36668.765678</td>\n",
       "      <td>2.054025e+10</td>\n",
       "    </tr>\n",
       "    <tr>\n",
       "      <th>std</th>\n",
       "      <td>12297.066565</td>\n",
       "      <td>12727.681790</td>\n",
       "      <td>11862.108972</td>\n",
       "      <td>12383.550524</td>\n",
       "      <td>12383.550524</td>\n",
       "      <td>1.346815e+10</td>\n",
       "    </tr>\n",
       "    <tr>\n",
       "      <th>min</th>\n",
       "      <td>25121.673828</td>\n",
       "      <td>25735.308594</td>\n",
       "      <td>24797.167969</td>\n",
       "      <td>25124.675781</td>\n",
       "      <td>25124.675781</td>\n",
       "      <td>5.331173e+09</td>\n",
       "    </tr>\n",
       "    <tr>\n",
       "      <th>25%</th>\n",
       "      <td>27552.037110</td>\n",
       "      <td>27984.726562</td>\n",
       "      <td>27100.661133</td>\n",
       "      <td>27557.231445</td>\n",
       "      <td>27557.231445</td>\n",
       "      <td>1.216358e+10</td>\n",
       "    </tr>\n",
       "    <tr>\n",
       "      <th>50%</th>\n",
       "      <td>30315.976563</td>\n",
       "      <td>30636.029297</td>\n",
       "      <td>29966.386719</td>\n",
       "      <td>30318.496094</td>\n",
       "      <td>30318.496094</td>\n",
       "      <td>1.649319e+10</td>\n",
       "    </tr>\n",
       "    <tr>\n",
       "      <th>75%</th>\n",
       "      <td>42649.451172</td>\n",
       "      <td>43357.119140</td>\n",
       "      <td>41852.763672</td>\n",
       "      <td>42700.660157</td>\n",
       "      <td>42700.660157</td>\n",
       "      <td>2.387294e+10</td>\n",
       "    </tr>\n",
       "    <tr>\n",
       "      <th>max</th>\n",
       "      <td>73079.375000</td>\n",
       "      <td>73750.070313</td>\n",
       "      <td>71334.093750</td>\n",
       "      <td>73083.500000</td>\n",
       "      <td>73083.500000</td>\n",
       "      <td>1.028029e+11</td>\n",
       "    </tr>\n",
       "  </tbody>\n",
       "</table>\n",
       "</div>"
      ],
      "text/plain": [
       "               Open          High           Low         Close     Adj Close  \\\n",
       "count    367.000000    367.000000    367.000000    367.000000    367.000000   \n",
       "mean   36566.133366  37245.166175  35951.784331  36668.765678  36668.765678   \n",
       "std    12297.066565  12727.681790  11862.108972  12383.550524  12383.550524   \n",
       "min    25121.673828  25735.308594  24797.167969  25124.675781  25124.675781   \n",
       "25%    27552.037110  27984.726562  27100.661133  27557.231445  27557.231445   \n",
       "50%    30315.976563  30636.029297  29966.386719  30318.496094  30318.496094   \n",
       "75%    42649.451172  43357.119140  41852.763672  42700.660157  42700.660157   \n",
       "max    73079.375000  73750.070313  71334.093750  73083.500000  73083.500000   \n",
       "\n",
       "             Volume  \n",
       "count  3.670000e+02  \n",
       "mean   2.054025e+10  \n",
       "std    1.346815e+10  \n",
       "min    5.331173e+09  \n",
       "25%    1.216358e+10  \n",
       "50%    1.649319e+10  \n",
       "75%    2.387294e+10  \n",
       "max    1.028029e+11  "
      ]
     },
     "execution_count": 6,
     "metadata": {},
     "output_type": "execute_result"
    }
   ],
   "source": [
    "df.describe()"
   ]
  },
  {
   "cell_type": "code",
   "execution_count": 7,
   "id": "265f1b04-338f-4366-9c83-0a790f72aa98",
   "metadata": {},
   "outputs": [
    {
     "data": {
      "image/png": "[encoded data removed]",
      "text/plain": [
       "<Figure size 640x480 with 1 Axes>"
      ]
     },
     "metadata": {},
     "output_type": "display_data"
    }
   ],
   "source": [
    "sns.histplot(df['Open'], bins=30, kde=True);"
   ]
  },
  {
   "cell_type": "code",
   "execution_count": 8,
   "id": "8fd62adf-9374-4145-84f8-1ef444297612",
   "metadata": {},
   "outputs": [
    {
     "data": {
      "image/png": "[encoded data removed]",
      "text/plain": [
       "<Figure size 640x480 with 1 Axes>"
      ]
     },
     "metadata": {},
     "output_type": "display_data"
    }
   ],
   "source": [
    "sns.histplot(df['Close'], bins=30, kde=True);"
   ]
  },
  {
   "cell_type": "code",
   "execution_count": 9,
   "id": "519154ac-6b55-4347-9f08-2ee64617cfc8",
   "metadata": {},
   "outputs": [
    {
     "data": {
      "image/png": "[encoded data removed]",
      "text/plain": [
       "<Figure size 640x480 with 1 Axes>"
      ]
     },
     "metadata": {},
     "output_type": "display_data"
    }
   ],
   "source": [
    "sns.histplot(df['Volume'], bins=30, kde=True);"
   ]
  },
  {
   "cell_type": "code",
   "execution_count": 10,
   "id": "beb409ba-15c3-4818-a176-4d35ea6b3e5c",
   "metadata": {},
   "outputs": [
    {
     "data": {
      "text/plain": [
       "<Axes: xlabel='Open', ylabel='Volume'>"
      ]
     },
     "execution_count": 10,
     "metadata": {},
     "output_type": "execute_result"
    },
    {
     "data": {
      "image/png": "[encoded data removed]",
      "text/plain": [
       "<Figure size 640x480 with 1 Axes>"
      ]
     },
     "metadata": {},
     "output_type": "display_data"
    }
   ],
   "source": [
    "sns.scatterplot(data = df, x = 'Open', y = 'Volume', hue = 'Volume')"
   ]
  },
  {
   "cell_type": "code",
   "execution_count": 11,
   "id": "213fce20-73a1-48a2-8a77-d6c959a3ee6d",
   "metadata": {},
   "outputs": [
    {
     "data": {
      "image/png": "[encoded data removed]",
      "text/plain": [
       "<Figure size 640x480 with 1 Axes>"
      ]
     },
     "metadata": {},
     "output_type": "display_data"
    }
   ],
   "source": [
    "sns.boxplot(df);"
   ]
  },
  {
   "cell_type": "code",
   "execution_count": 12,
   "id": "8b54eddf-eabe-4a2a-bff5-504007e67389",
   "metadata": {},
   "outputs": [
    {
     "data": {
      "text/html": [
       "<div>\n",
       "<style scoped>\n",
       "    .dataframe tbody tr th:only-of-type {\n",
       "        vertical-align: middle;\n",
       "    }\n",
       "\n",
       "    .dataframe tbody tr th {\n",
       "        vertical-align: top;\n",
       "    }\n",
       "\n",
       "    .dataframe thead th {\n",
       "        text-align: right;\n",
       "    }\n",
       "</style>\n",
       "<table border=\"1\" class=\"dataframe\">\n",
       "  <thead>\n",
       "    <tr style=\"text-align: right;\">\n",
       "      <th></th>\n",
       "      <th>Date</th>\n",
       "      <th>Open</th>\n",
       "      <th>High</th>\n",
       "      <th>Low</th>\n",
       "      <th>Close</th>\n",
       "      <th>Adj Close</th>\n",
       "      <th>Volume</th>\n",
       "    </tr>\n",
       "  </thead>\n",
       "  <tbody>\n",
       "    <tr>\n",
       "      <th>0</th>\n",
       "      <td>2023-04-02</td>\n",
       "      <td>28462.845703</td>\n",
       "      <td>28518.958984</td>\n",
       "      <td>27884.087891</td>\n",
       "      <td>28199.308594</td>\n",
       "      <td>28199.308594</td>\n",
       "      <td>1.228464e+10</td>\n",
       "    </tr>\n",
       "    <tr>\n",
       "      <th>1</th>\n",
       "      <td>2023-04-03</td>\n",
       "      <td>28183.080078</td>\n",
       "      <td>28475.623047</td>\n",
       "      <td>27276.720703</td>\n",
       "      <td>27790.220703</td>\n",
       "      <td>27790.220703</td>\n",
       "      <td>1.955650e+10</td>\n",
       "    </tr>\n",
       "    <tr>\n",
       "      <th>2</th>\n",
       "      <td>2023-04-04</td>\n",
       "      <td>27795.273438</td>\n",
       "      <td>28433.742188</td>\n",
       "      <td>27681.304688</td>\n",
       "      <td>28168.089844</td>\n",
       "      <td>28168.089844</td>\n",
       "      <td>1.528454e+10</td>\n",
       "    </tr>\n",
       "    <tr>\n",
       "      <th>3</th>\n",
       "      <td>2023-04-05</td>\n",
       "      <td>28169.726563</td>\n",
       "      <td>28739.238281</td>\n",
       "      <td>27843.763672</td>\n",
       "      <td>28177.984375</td>\n",
       "      <td>28177.984375</td>\n",
       "      <td>1.705232e+10</td>\n",
       "    </tr>\n",
       "    <tr>\n",
       "      <th>4</th>\n",
       "      <td>2023-04-06</td>\n",
       "      <td>28175.226563</td>\n",
       "      <td>28178.384766</td>\n",
       "      <td>27738.759766</td>\n",
       "      <td>28044.140625</td>\n",
       "      <td>28044.140625</td>\n",
       "      <td>1.383781e+10</td>\n",
       "    </tr>\n",
       "  </tbody>\n",
       "</table>\n",
       "</div>"
      ],
      "text/plain": [
       "         Date          Open          High           Low         Close  \\\n",
       "0  2023-04-02  28462.845703  28518.958984  27884.087891  28199.308594   \n",
       "1  2023-04-03  28183.080078  28475.623047  27276.720703  27790.220703   \n",
       "2  2023-04-04  27795.273438  28433.742188  27681.304688  28168.089844   \n",
       "3  2023-04-05  28169.726563  28739.238281  27843.763672  28177.984375   \n",
       "4  2023-04-06  28175.226563  28178.384766  27738.759766  28044.140625   \n",
       "\n",
       "      Adj Close        Volume  \n",
       "0  28199.308594  1.228464e+10  \n",
       "1  27790.220703  1.955650e+10  \n",
       "2  28168.089844  1.528454e+10  \n",
       "3  28177.984375  1.705232e+10  \n",
       "4  28044.140625  1.383781e+10  "
      ]
     },
     "execution_count": 12,
     "metadata": {},
     "output_type": "execute_result"
    }
   ],
   "source": [
    "#Sort years values from the column 'Year_of_release'\n",
    "df.sort_values(by=['Date'], inplace=True)\n",
    "df.head()"
   ]
  },
  {
   "cell_type": "code",
   "execution_count": 13,
   "id": "596d58f8-ae3b-456f-bae2-c72a2239207b",
   "metadata": {},
   "outputs": [
    {
     "data": {
      "text/html": [
       "<div>\n",
       "<style scoped>\n",
       "    .dataframe tbody tr th:only-of-type {\n",
       "        vertical-align: middle;\n",
       "    }\n",
       "\n",
       "    .dataframe tbody tr th {\n",
       "        vertical-align: top;\n",
       "    }\n",
       "\n",
       "    .dataframe thead th {\n",
       "        text-align: right;\n",
       "    }\n",
       "</style>\n",
       "<table border=\"1\" class=\"dataframe\">\n",
       "  <thead>\n",
       "    <tr style=\"text-align: right;\">\n",
       "      <th></th>\n",
       "      <th>Date</th>\n",
       "      <th>Open</th>\n",
       "    </tr>\n",
       "  </thead>\n",
       "  <tbody>\n",
       "    <tr>\n",
       "      <th>347</th>\n",
       "      <td>2024-03-14</td>\n",
       "      <td>73079.375000</td>\n",
       "    </tr>\n",
       "    <tr>\n",
       "      <th>345</th>\n",
       "      <td>2024-03-12</td>\n",
       "      <td>72125.125000</td>\n",
       "    </tr>\n",
       "    <tr>\n",
       "      <th>346</th>\n",
       "      <td>2024-03-13</td>\n",
       "      <td>71482.117188</td>\n",
       "    </tr>\n",
       "    <tr>\n",
       "      <th>348</th>\n",
       "      <td>2024-03-15</td>\n",
       "      <td>71387.875000</td>\n",
       "    </tr>\n",
       "    <tr>\n",
       "      <th>365</th>\n",
       "      <td>2024-04-01</td>\n",
       "      <td>71333.484375</td>\n",
       "    </tr>\n",
       "    <tr>\n",
       "      <th>362</th>\n",
       "      <td>2024-03-29</td>\n",
       "      <td>70744.796875</td>\n",
       "    </tr>\n",
       "    <tr>\n",
       "      <th>360</th>\n",
       "      <td>2024-03-27</td>\n",
       "      <td>69991.898438</td>\n",
       "    </tr>\n",
       "    <tr>\n",
       "      <th>359</th>\n",
       "      <td>2024-03-26</td>\n",
       "      <td>69931.328125</td>\n",
       "    </tr>\n",
       "    <tr>\n",
       "      <th>363</th>\n",
       "      <td>2024-03-30</td>\n",
       "      <td>69893.445313</td>\n",
       "    </tr>\n",
       "    <tr>\n",
       "      <th>366</th>\n",
       "      <td>2024-04-02</td>\n",
       "      <td>69694.046875</td>\n",
       "    </tr>\n",
       "  </tbody>\n",
       "</table>\n",
       "</div>"
      ],
      "text/plain": [
       "           Date          Open\n",
       "347  2024-03-14  73079.375000\n",
       "345  2024-03-12  72125.125000\n",
       "346  2024-03-13  71482.117188\n",
       "348  2024-03-15  71387.875000\n",
       "365  2024-04-01  71333.484375\n",
       "362  2024-03-29  70744.796875\n",
       "360  2024-03-27  69991.898438\n",
       "359  2024-03-26  69931.328125\n",
       "363  2024-03-30  69893.445313\n",
       "366  2024-04-02  69694.046875"
      ]
     },
     "execution_count": 13,
     "metadata": {},
     "output_type": "execute_result"
    }
   ],
   "source": [
    "# Sort the data according to 'Global_Sales'\n",
    "top_open_df = df.sort_values(by='Open', ascending=False)\n",
    "\n",
    "# Select the top 5 games results \n",
    "top10_open = top_open_df.head(10)\n",
    "\n",
    "# Visualising top5_games dataframe first 5 rows\n",
    "top10_open[['Date', 'Open']].head(10)"
   ]
  },
  {
   "cell_type": "code",
   "execution_count": 14,
   "id": "978348a6-145f-4c4c-8cc9-477ffe6b68cd",
   "metadata": {},
   "outputs": [
    {
     "data": {
      "image/png": "[encoded data removed]",
      "text/plain": [
       "<Figure size 640x480 with 1 Axes>"
      ]
     },
     "metadata": {},
     "output_type": "display_data"
    }
   ],
   "source": [
    "# Plot the Clusters\n",
    "plt.scatter(top10_open['Date'], top10_open['Open'], marker=\"o\",cmap=\"bwr_r\")\n",
    "\n",
    "# Set title of the plot\n",
    "plt.title('Top 10 Bitcoin Open values')\n",
    "# Set x-axis label\n",
    "plt.xlabel('Time of the year')\n",
    "# Set y-axis label\n",
    "plt.ylabel(' Open Values')\n",
    "#\n",
    "plt.xticks(rotation = 45, fontsize= 11)\n",
    "# Display the plot\n",
    "plt.show()"
   ]
  },
  {
   "cell_type": "code",
   "execution_count": 15,
   "id": "f8d62895-bb01-456a-8b21-136f23b13568",
   "metadata": {},
   "outputs": [
    {
     "data": {
      "text/html": [
       "<div>\n",
       "<style scoped>\n",
       "    .dataframe tbody tr th:only-of-type {\n",
       "        vertical-align: middle;\n",
       "    }\n",
       "\n",
       "    .dataframe tbody tr th {\n",
       "        vertical-align: top;\n",
       "    }\n",
       "\n",
       "    .dataframe thead th {\n",
       "        text-align: right;\n",
       "    }\n",
       "</style>\n",
       "<table border=\"1\" class=\"dataframe\">\n",
       "  <thead>\n",
       "    <tr style=\"text-align: right;\">\n",
       "      <th></th>\n",
       "      <th>Open</th>\n",
       "      <th>High</th>\n",
       "      <th>Low</th>\n",
       "      <th>Close</th>\n",
       "      <th>Volume</th>\n",
       "    </tr>\n",
       "  </thead>\n",
       "  <tbody>\n",
       "    <tr>\n",
       "      <th>0</th>\n",
       "      <td>28462.845703</td>\n",
       "      <td>28518.958984</td>\n",
       "      <td>27884.087891</td>\n",
       "      <td>28199.308594</td>\n",
       "      <td>1.228464e+10</td>\n",
       "    </tr>\n",
       "    <tr>\n",
       "      <th>1</th>\n",
       "      <td>28183.080078</td>\n",
       "      <td>28475.623047</td>\n",
       "      <td>27276.720703</td>\n",
       "      <td>27790.220703</td>\n",
       "      <td>1.955650e+10</td>\n",
       "    </tr>\n",
       "    <tr>\n",
       "      <th>2</th>\n",
       "      <td>27795.273438</td>\n",
       "      <td>28433.742188</td>\n",
       "      <td>27681.304688</td>\n",
       "      <td>28168.089844</td>\n",
       "      <td>1.528454e+10</td>\n",
       "    </tr>\n",
       "    <tr>\n",
       "      <th>3</th>\n",
       "      <td>28169.726563</td>\n",
       "      <td>28739.238281</td>\n",
       "      <td>27843.763672</td>\n",
       "      <td>28177.984375</td>\n",
       "      <td>1.705232e+10</td>\n",
       "    </tr>\n",
       "    <tr>\n",
       "      <th>4</th>\n",
       "      <td>28175.226563</td>\n",
       "      <td>28178.384766</td>\n",
       "      <td>27738.759766</td>\n",
       "      <td>28044.140625</td>\n",
       "      <td>1.383781e+10</td>\n",
       "    </tr>\n",
       "  </tbody>\n",
       "</table>\n",
       "</div>"
      ],
      "text/plain": [
       "           Open          High           Low         Close        Volume\n",
       "0  28462.845703  28518.958984  27884.087891  28199.308594  1.228464e+10\n",
       "1  28183.080078  28475.623047  27276.720703  27790.220703  1.955650e+10\n",
       "2  27795.273438  28433.742188  27681.304688  28168.089844  1.528454e+10\n",
       "3  28169.726563  28739.238281  27843.763672  28177.984375  1.705232e+10\n",
       "4  28175.226563  28178.384766  27738.759766  28044.140625  1.383781e+10"
      ]
     },
     "execution_count": 15,
     "metadata": {},
     "output_type": "execute_result"
    }
   ],
   "source": [
    "df2 = df.drop(columns=['Date', 'Adj Close'])\n",
    "df2.head()"
   ]
  },
  {
   "cell_type": "code",
   "execution_count": null,
   "id": "82d2dbf3-640d-4dbd-a9d5-d8a4c4ac6e37",
   "metadata": {},
   "outputs": [],
   "source": [
    "#Plot a Pairgrid \n",
    "g = sns.PairGrid(df2)\n",
    "g.map_diag(sns.histplot)\n",
    "g.map_offdiag(sns.scatterplot)\n",
    "g.add_legend()"
   ]
  },
  {
   "cell_type": "markdown",
   "id": "d3431c08-4fc2-410c-97ea-0370913dd128",
   "metadata": {},
   "source": [
    "## Normalize the data \n",
    "\n",
    "In order to work with distance-based algorithms, like for example the K-Means clustering the data must be normalized. Because of the different scalling of the variables, those can be weighted differently in the distance formula that has been improved in the training process. \n",
    "(Mar. 2023, www.datacamp.com/tutorial/k-means-clustering-python.)"
   ]
  },
  {
   "cell_type": "code",
   "execution_count": null,
   "id": "002efe53-547a-473d-80d1-fc531553934a",
   "metadata": {},
   "outputs": [],
   "source": [
    "from sklearn.preprocessing import RobustScaler\n",
    "\n",
    "transformer = RobustScaler().fit(df2)\n",
    "transformer\n",
    "RobustScaler()\n",
    "transformer.transform(df2)"
   ]
  },
  {
   "cell_type": "markdown",
   "id": "1768a8ed-5ab7-43fc-8f2c-f8adf1548c7e",
   "metadata": {},
   "source": [
    "## Find the best number of K\n",
    "\n",
    "To find the optimal number of K in the KMeans clustering it will be used The Elbow Method. In this method will be focused on the percentage of variance for the different number of K. \n",
    "As the number of K increase, the variance will decrease. The aim is to select the number of clusters that adding to another cluster there is no significant change in the variance. (Avinash Navlani et al.)\n",
    "\n",
    "As the number of K is increased it can be seen improvements in clusters and what they represent until a certain point. The value of K at which the improvement performance declines or start to get flatten will be considered the Elbow point. (Mar. 2023, www.datacamp.com/tutorial/k-means-clustering-python)\n"
   ]
  },
  {
   "cell_type": "code",
   "execution_count": null,
   "id": "c6bd95b5-73f8-4d79-8149-00753718324a",
   "metadata": {},
   "outputs": [],
   "source": [
    "# import K-means\n",
    "from sklearn.cluster import KMeans\n",
    "\n",
    "wcss_list = []\n",
    "\n",
    "# Run a loop for different value of number of cluster\n",
    "for i in range(1, 6):\n",
    "    \n",
    " # Create and fit the KMeans model\n",
    " kmeans_model = KMeans(n_clusters = i, random_state = 123)\n",
    " kmeans_model.fit(df2)\n",
    "    \n",
    " # Add the WCSS or inertia of the clusters to the score_list\n",
    " wcss_list.append(kmeans_model.inertia_)\n",
    "    \n",
    "# Plot the inertia(WCSS) and number of clusters\n",
    "plt.plot(range(1, 6), wcss_list, marker='*')\n",
    "\n",
    "# set title of the plot\n",
    "plt.title('Selecting Optimum Number of Clusters using Elbow Method')\n",
    "# Set x-axis label\n",
    "plt.xlabel('Number of Clusters K')\n",
    "# Set y-axis label\n",
    "plt.ylabel('Within-Cluster Sum of the Squares(Inertia)')\n",
    "# Display plot\n",
    "plt.show()\n"
   ]
  },
  {
   "cell_type": "raw",
   "id": "4cc825c7-49a6-47f5-a64d-bc332d6d6b6f",
   "metadata": {},
   "source": [
    "As the graph shows above, at K=4 the grapgh begins to get flatten significantly, therefore I would choose 4 as the number of clusters. "
   ]
  },
  {
   "cell_type": "markdown",
   "id": "e7c2d189-9250-450f-a425-636626847b35",
   "metadata": {},
   "source": [
    "## Fitting and Evaluating the K-Means model\n",
    "\n",
    "As the number of K has been found above using the ELbow method, the K-Means algorithm will be implemented using Scikit-learn library with the following parameters: \n",
    "\n",
    "n_clusters = It will be used 4 clusters as it is considered the optimal number os clusters according to the Elbow method. \n",
    "\n",
    "n_init ( 'auto' or int, default=10)  - Number of times the k-means algorithm is run with different centroid seeds \n",
    "\n",
    "random_state(0) - to get the same result every time the code is run. \n",
    "\n",
    "\n",
    "Fit() trains the KMeans model on the data.\n",
    "\n",
    "\n",
    "\n"
   ]
  },
  {
   "cell_type": "code",
   "execution_count": null,
   "id": "4aace734-ec94-4639-9e6a-e01cf19e3a48",
   "metadata": {},
   "outputs": [],
   "source": [
    "from sklearn.cluster import KMeans\n",
    "\n",
    "kmeans = KMeans(n_clusters = 4, random_state = 0, n_init='auto')      #n_init : 'auto' or int, default=10\n",
    "                                                                      #Number of times the k-means algorithm is run with different centroid seeds.\n",
    "kmeans.fit(df2)          #Fit trains de KMeand model on the data "
   ]
  },
  {
   "cell_type": "code",
   "execution_count": null,
   "id": "a6809d94-78b9-45b5-8433-b847326eda01",
   "metadata": {},
   "outputs": [],
   "source": [
    "# Create an additional column in the dataframe df2 with KMeans_labels\n",
    "df2['KMeans_labels'] = kmeans.labels_\n",
    "\n",
    "# Display the dataframe records\n",
    "df2.head()"
   ]
  },
  {
   "cell_type": "markdown",
   "id": "3a9b8e65-51b2-420d-a8a1-7fd9e49bb337",
   "metadata": {},
   "source": [
    "### Visualizing the data that has been fit()\n",
    "\n",
    "What the KMeans algorithm does is to try to find cluster centers and assign each data pointo to its closest cluster center, grouping them into instinct clusters.\n",
    "Each cluster center is considered as the mean of the data points that has been linked it it. (Müller and Guido). \n",
    "\n",
    "It can be seen below the data using the columns 'Open' and 'Volume' has been split into 4 groups that are labeled (0,1,2,3) and are represented in four different ton of colours. \n"
   ]
  },
  {
   "cell_type": "code",
   "execution_count": null,
   "id": "5bc8fb50-7f17-437b-a676-b375f52a93ea",
   "metadata": {},
   "outputs": [],
   "source": [
    "sns.scatterplot(data = df2, x = 'Open', y = 'Volume', hue = kmeans.labels_, size=kmeans.labels_, sizes=(20, 200), legend='full');\n"
   ]
  },
  {
   "cell_type": "markdown",
   "id": "a0daf8a2-5fff-4274-8c78-1c6ddf1c09fb",
   "metadata": {},
   "source": [
    "It can be seen a good representation of the group 3 with volumes that goes from 0.2 to 0.4 and it has a good data points concentration in the open values that represents 30000 and 40000. \n",
    "\n",
    "The group 1 has a few data points and it showns to have the highest volume which starts from 0.6, but it also has the highest value in the opening. \n",
    "\n",
    "Group 0 though has been represented with the lowest volume and open values from 30000 to 50000. \n"
   ]
  },
  {
   "cell_type": "code",
   "execution_count": null,
   "id": "fb6fe376-971a-4e28-ab36-fa2f7bf2d976",
   "metadata": {},
   "outputs": [],
   "source": [
    "sns.scatterplot(data = df2, x = 'Close', y = 'High', hue = kmeans.labels_, size=kmeans.labels_, sizes=(20, 200), legend='full');"
   ]
  },
  {
   "cell_type": "code",
   "execution_count": null,
   "id": "309e7a16-7147-442c-aa7f-6a638518c8a4",
   "metadata": {},
   "outputs": [],
   "source": [
    "sns.scatterplot(data = df2, x = 'High', y = 'Low', hue = kmeans.labels_, size=kmeans.labels_, sizes=(20, 200), legend='full');"
   ]
  },
  {
   "cell_type": "markdown",
   "id": "3ab6b312-c73a-457e-bbb3-65ec4f850dbe",
   "metadata": {},
   "source": [
    "When the features low and high has been visualizing, it can be seen that the KMeans clustering has not performed well in this type of data. It can be visualized the four group of clusters, however their direction is going towards the diagonal. \n",
    "KMeans algorithm only considers the distance to the nearest cluster center and all the directions for each cluster fairly important.  (Müller and Guido)"
   ]
  },
  {
   "cell_type": "code",
   "execution_count": null,
   "id": "718c21e3-0995-4c45-bce7-1790f63c841a",
   "metadata": {},
   "outputs": [],
   "source": [
    "sns.boxplot(x = kmeans.labels_, y = df2['Volume'])"
   ]
  },
  {
   "cell_type": "markdown",
   "id": "3eb0f8be-ff72-43cb-a0e6-fe5102378005",
   "metadata": {},
   "source": [
    "Using the boxplot it shows the distribution of the volume for each cluster that has been created by the KMeans algorithm. \n",
    "\n",
    "It can be seen that the group 1 has the highest volume followed by group 2 when compared to other groups. "
   ]
  },
  {
   "cell_type": "markdown",
   "id": "3e054f83-d12d-42b1-8940-f9e9ba6925cd",
   "metadata": {},
   "source": [
    "### Evaluate Performance of KMeans using Sillouette method \n",
    "\n",
    "In order to evaluate the clustering algorithm it has been used the Sillouette score method which is also part of Sklearn.metrics. \n",
    "\n",
    "\n",
    "The sillouette score is 0.5988 which is a positive value indicating that the clusters are well separated. "
   ]
  },
  {
   "cell_type": "code",
   "execution_count": null,
   "id": "4dbfd47e-e836-42ce-92ea-827018797d73",
   "metadata": {},
   "outputs": [],
   "source": [
    "from sklearn.metrics import silhouette_score\n",
    "\n",
    "silhouette_score(df2, kmeans.labels_, metric='euclidean')"
   ]
  },
  {
   "cell_type": "code",
   "execution_count": null,
   "id": "d0fd027c-78eb-4f63-9ab9-fdc5ea583adc",
   "metadata": {},
   "outputs": [],
   "source": []
  },
  {
   "cell_type": "markdown",
   "id": "6b12fc36-293f-47f0-9022-f4389babe77c",
   "metadata": {},
   "source": [
    "## DBSCAN clustering (Density-Based Spatial Clustering of Applications with Noise (DBSCAN))\n",
    "\n",
    "It is a density-based clustering algorithm, it works by identifying data points that are grouped or clustered in dension regions of the dataset. DBSCAN can capture clusters from different shapes and sides, also it can identify data points that are out or isolated from other data points. \n",
    "\n",
    "DBSCAN works with two important parameters which are : min_samples (Minpts) and eps (Epsilon radius).\n",
    "\n",
    "min_samples - Determine the number of data points should be present within a distance of eps. \n",
    "eps. Determine the distance to search for points near a given point. \n",
    "\n",
    "The algorithm will create a circle of epsilon radius around each data point and will classify them as Core point (A point within the eps distance in which there's at least min_samples data points.), Border point (There is less min_samples within the eps distance, but they are the neighbours of Core point) and noise (they are the points too far or isolated from other points). (Müller and Guido)\n"
   ]
  },
  {
   "cell_type": "code",
   "execution_count": null,
   "id": "6af2fa19-ca1c-494f-bcdd-d091afc8a00c",
   "metadata": {},
   "outputs": [],
   "source": [
    "#import DBSCAN from Sklearn \n",
    "from sklearn.cluster import DBSCAN\n",
    "\n",
    "dbscan = DBSCAN(eps=3, min_samples=2) #The model has initialize with parameters: eps=3 and min_samples= 2 \n",
    "dbscan.fit(df2[['Open', 'Volume']])   #Train the model by calling Fit()\n",
    "dbscan.labels_                        \n",
    "\n",
    "#As it has seen below the data points has been labeled as -1 which are considered noise. This is due to \n",
    "# the parameters eps and min_samples that has not been adjusted according. "
   ]
  },
  {
   "cell_type": "code",
   "execution_count": null,
   "id": "4d9f0686-e00c-4f94-985d-3db7f466795b",
   "metadata": {},
   "outputs": [],
   "source": [
    "# Create an additional column in the dataframe df2 with DBSCAN labels \n",
    "df2['DBSCAN_labels']=dbscan.labels_ \n",
    "\n",
    "df2.head()\n"
   ]
  },
  {
   "cell_type": "code",
   "execution_count": null,
   "id": "ba9419b4-eb6e-4282-b9a5-9fa50226ebdb",
   "metadata": {},
   "outputs": [],
   "source": [
    "# Plot the Clusters\n",
    "plt.scatter(df2['Open'], df2['Volume'], c=dbscan.labels_, marker=\"o\",cmap=\"bwr_r\")\n",
    "\n",
    "# Set title of the plot\n",
    "plt.title('DBSCAN Clustering')\n",
    "# Set x-axis label\n",
    "plt.xlabel('X-Axis Values')\n",
    "# Set y-axis label\n",
    "plt.ylabel('Y-Axis Values')\n",
    "# Display the plot\n",
    "plt.show()"
   ]
  },
  {
   "cell_type": "code",
   "execution_count": null,
   "id": "f1d6fa28-7999-43ba-8b6b-8c5dbefb7e25",
   "metadata": {},
   "outputs": [],
   "source": [
    "import numpy as np\n",
    "from sklearn.neighbors import NearestNeighbors\n",
    "\n",
    "neigh = NearestNeighbors(n_neighbors=5)\n",
    "nbrs = neigh.fit(df2[['Open', 'Volume']])\n",
    "\n",
    "distances, indices = nbrs.kneighbors(df2[['Open', 'Volume']])\n",
    "\n",
    "print(distances, indices)\n"
   ]
  },
  {
   "cell_type": "code",
   "execution_count": null,
   "id": "049f063b-87a8-4f2c-96ab-affc5e6870e4",
   "metadata": {},
   "outputs": [],
   "source": [
    "# Plotting K-distance Graph\n",
    "# distances = np.sort(distances, axis=0)\n",
    "distances = distances[:,1]\n",
    "\n",
    "plt.figure(figsize = (14,7))\n",
    "plt.plot(distances)\n",
    "plt.title('K-distance Graph', fontsize = 20)\n",
    "plt.xlabel('Data Points sorted by distance', fontsize = 14)\n",
    "plt.ylabel('Epsilon', fontsize = 14)\n",
    "\n",
    "plt.plot(distances)"
   ]
  },
  {
   "cell_type": "code",
   "execution_count": null,
   "id": "20eae1f8-f864-45d2-bae4-3e319ca57162",
   "metadata": {},
   "outputs": [],
   "source": [
    "from sklearn.cluster import DBSCAN\n",
    "\n",
    "dbscan = DBSCAN(eps=0.01, min_samples=2) #The model has initialize with parameters: eps=3 and min_samples= 2 \n",
    "dbscan.fit(df2[['Open', 'Volume']])   #Train the model by calling Fit()\n"
   ]
  },
  {
   "cell_type": "code",
   "execution_count": null,
   "id": "a0a72124-c2ed-4cdd-b570-583fd9634f5d",
   "metadata": {},
   "outputs": [],
   "source": [
    "plt.title(\"DF2 Clusters from DBSCAN\")\n",
    "plt.scatter(df2['Open'], df2['Volume'], c=dbscan.labels_, s=40, cmap='tab20b')\n",
    "\n",
    "# Set title of the plot\n",
    "plt.title('DBSCAN Clustering')\n",
    "# Set x-axis label\n",
    "plt.xlabel('X-Axis Values')\n",
    "# Set y-axis label\n",
    "plt.ylabel('Y-Axis Values')\n",
    "# Display the plot\n",
    "plt.show()"
   ]
  },
  {
   "cell_type": "code",
   "execution_count": null,
   "id": "aab53538-ed4b-42ec-a4c9-7df54dfa9deb",
   "metadata": {},
   "outputs": [],
   "source": [
    "# Import metrics module for performance evaluation\n",
    "#from sklearn.metrics import davies_bouldin_score\n",
    "\n",
    "# Calculate internal performance evaluation measures\n",
    "#print(\"Davies-Bouldin Index:\", davies_bouldin_score(datapoint, label_db))\n"
   ]
  },
  {
   "cell_type": "code",
   "execution_count": null,
   "id": "5ef45a1f-f7f9-4ca7-bd77-8f4c26c73c88",
   "metadata": {},
   "outputs": [],
   "source": [
    "#Gridsearch \n",
    "\n",
    "epsilon = np.linspace(0.01,2, num=20)\n",
    "epsilon"
   ]
  },
  {
   "cell_type": "code",
   "execution_count": null,
   "id": "2d968afd-facf-4bde-9aba-63ddd916ba42",
   "metadata": {},
   "outputs": [],
   "source": [
    "min_samples = np.arange(2,25, step=2)\n",
    "min_samples"
   ]
  },
  {
   "cell_type": "code",
   "execution_count": null,
   "id": "ca362808-10ab-409c-a4a5-10ba9ab6d36d",
   "metadata": {},
   "outputs": [],
   "source": [
    "import itertools\n",
    "\n",
    "combinations = list(itertools.product(epsilon, min_samples))\n",
    "N = len(combinations)\n",
    "N"
   ]
  },
  {
   "cell_type": "code",
   "execution_count": null,
   "id": "433a4b4d-7627-489f-9e20-edc0da015762",
   "metadata": {},
   "outputs": [],
   "source": [
    "openvol = df2[['Open', 'Volume']]"
   ]
  },
  {
   "cell_type": "code",
   "execution_count": null,
   "id": "0c87559d-7021-4c88-8792-654e5ac20c76",
   "metadata": {},
   "outputs": [],
   "source": [
    "X = openvol.to_numpy()\n",
    "X.shape\n",
    "X"
   ]
  },
  {
   "cell_type": "code",
   "execution_count": null,
   "id": "1495d12b-a830-4645-a86c-34d3caa797f4",
   "metadata": {},
   "outputs": [],
   "source": [
    "def Gridsearch(combinations, X):\n",
    "    scores = []\n",
    "    all_label = []\n",
    "\n",
    "    for i, (eps, num_samples) in enumerate(combinations):\n",
    "        dbscan = DBSCAN(eps = eps, min_samples = num_samples).fit(X)\n",
    "        labels = dbscan.labels_\n",
    "        labels_set = set(labels)\n",
    "        num_clusters = len(labels_set)\n",
    "        if -1 in labels_set:\n",
    "            num_clusters -=1\n",
    "        if (num_clusters < 2) or (num_clusters > 25):\n",
    "            scores.append(-20)\n",
    "            all_label.append('Poor')\n",
    "            print ('at iteration : ', i, 'ep = ', eps, 'min_samples = ', num_samples, 'number of cluster = ', num_clusters, 'moving on..')\n",
    "            continue\n",
    "        scores.append(shs(X, labels))\n",
    "        all_label.append(labels)\n",
    "        print('at iteration :', i, 'score :', scores[-1], 'Number of clusters :', num_clusters)\n",
    "    best_index = np.argmax(scores)\n",
    "    best_parameters = combinations[best_index]\n",
    "    best_labels = all_label[best_index]\n",
    "    best_score = scores[best_index]\n",
    "    \n",
    "    return{'best_epsilon': best_parameters[0],'best_min_samples' : best_parameters[1],'best_labels': best_labels, 'best_score' : best_score }"
   ]
  },
  {
   "cell_type": "code",
   "execution_count": null,
   "id": "5f4919f5-b36c-43b6-bc7d-36db42078211",
   "metadata": {},
   "outputs": [],
   "source": [
    "best_para = Gridsearch(combinations, X)"
   ]
  },
  {
   "cell_type": "code",
   "execution_count": null,
   "id": "595191c0-4bc4-4b6e-8c6f-7eabf4e23851",
   "metadata": {},
   "outputs": [],
   "source": [
    "print(best_para)"
   ]
  },
  {
   "cell_type": "code",
   "execution_count": null,
   "id": "d5fb1333-41d1-47b4-9000-7c8cf72aa949",
   "metadata": {},
   "outputs": [],
   "source": []
  },
  {
   "cell_type": "markdown",
   "id": "42a180b8-489a-40a4-a12a-8c4be1baf275",
   "metadata": {},
   "source": [
    "## Time Series - ARIMA "
   ]
  },
  {
   "cell_type": "code",
   "execution_count": null,
   "id": "90ce0cd4-f33a-4251-9249-858f71c7f395",
   "metadata": {},
   "outputs": [],
   "source": [
    "#Import libraries to execute time series using ARIMA \n",
    "from statsmodels.graphics.tsaplots import plot_acf, plot_pacf  \n",
    "from statsmodels.tsa.arima_model import ARIMA\n",
    "import statsmodels.api as sm\n",
    "import statsmodels.tsa.api as smtsa"
   ]
  },
  {
   "cell_type": "code",
   "execution_count": null,
   "id": "3ff63760-826b-4130-b13c-850a1856c027",
   "metadata": {},
   "outputs": [],
   "source": [
    "df.head()"
   ]
  },
  {
   "cell_type": "code",
   "execution_count": null,
   "id": "6ab3e3f4-4c57-4fe6-b61e-42cf1b29348e",
   "metadata": {},
   "outputs": [],
   "source": [
    "# Convert 'Date' column into datetime format\n",
    "df['Date'] = pd.to_datetime(df['Date'])\n",
    "\n",
    "# Set 'Date' column as the index \n",
    "df.set_index('Date', inplace=True)"
   ]
  },
  {
   "cell_type": "code",
   "execution_count": null,
   "id": "d4d1dc37-1fc4-4698-b309-0dce7fd49079",
   "metadata": {},
   "outputs": [],
   "source": [
    "df.head()"
   ]
  },
  {
   "cell_type": "code",
   "execution_count": null,
   "id": "8f889a3d-49f1-4840-9d71-418f32ab5cb7",
   "metadata": {},
   "outputs": [],
   "source": [
    "# plotds is method to plot time series, ACF and PACF\n",
    "def plotds(xt, nlag = 30, fig_size = (12, 10)):\n",
    "    if not isinstance(xt, pd.Series):\n",
    "         xt = pd.Series(xt)\n",
    "    plt.figure(figsize=fig_size)\n",
    "    layout = (2, 2)\n",
    "    \n",
    "    ax_xt = plt.subplot2grid(layout, (0, 0), colspan = 2)\n",
    "    ax_acf= plt.subplot2grid(layout, (1, 0))\n",
    "    ax_pacf = plt.subplot2grid(layout, (1, 1))\n",
    "    \n",
    "    xt.plot(ax = ax_xt)\n",
    "    ax_xt.set_title('Time Series')\n",
    "    plot_acf(xt, lags = 50, ax = ax_acf)\n",
    "    plot_pacf(xt, lags = 50, ax = ax_pacf)\n",
    "    plt.tight_layout()\n",
    "    return None"
   ]
  },
  {
   "cell_type": "code",
   "execution_count": null,
   "id": "e70a1707-f620-47d9-807c-e9b008944e4b",
   "metadata": {},
   "outputs": [],
   "source": [
    "# Display plot of Open column and Date index\n",
    "plotds(df['Open'], nlag = 100)"
   ]
  },
  {
   "cell_type": "markdown",
   "id": "d430e3ba-054a-414e-b24d-577f8c781e2b",
   "metadata": {},
   "source": [
    "Autocorrelation Function (ACF). It summarizes the correlation of an observation with lag values. The x-axis shows the lag and the y-axis shows the correlation coefficient between -1 and 1 for negative and positive correlation.\n",
    "\n",
    "Partial Autocorrelation Function (PACF). It summarizes the correlations for an observation with lag values that is not accounted for by prior lagged observations.(https://www.facebook.com/jason.brownlee.39)"
   ]
  },
  {
   "cell_type": "markdown",
   "id": "788dbc72-9bab-4045-9815-eea555f8f35e",
   "metadata": {},
   "source": [
    "### Checking whether the time series is stationary or not using Augmented Dickey-Fuller test.\n",
    "\n",
    "It will be using the HO (null) and HA(alternative hypothesis) that says:\n",
    "\n",
    "HO - The time series is non-stationary which means its mean and variance changes over time. \n",
    "HA - The time series is stationary\n",
    "\n",
    "If the p-value is less than the significance level (0.05), we can reject the HO hypothesis and assume that the time series is stationary. (Zach)\n"
   ]
  },
  {
   "cell_type": "code",
   "execution_count": null,
   "id": "3cfb3ae8-7049-498f-8873-6521fd30e39c",
   "metadata": {},
   "outputs": [],
   "source": [
    "# Using Dickey-Fuller test from statsmodels to the 'Open' column \n",
    "from statsmodels.tsa.stattools import adfuller\n",
    "\n",
    "adfuller(df['Open'])"
   ]
  },
  {
   "cell_type": "markdown",
   "id": "c523f303-585b-474c-894e-2f33d845a308",
   "metadata": {},
   "source": [
    "It can be seen above: \n",
    "\n",
    "Test Statistic: 1.4143,\n",
    "P-Value: 0.9971\n",
    "\n",
    "As the p-value is greater than the significance level 0.05, we fail to reject the HO hypothesis, which means that the time series is non-stationary. \n",
    "\n"
   ]
  },
  {
   "cell_type": "markdown",
   "id": "5ba9e99e-9cd0-4827-9d40-19b6560f4a1f",
   "metadata": {},
   "source": [
    "### Stationarize time-series through differencing \n",
    "\n",
    "For statistical modeling methods, it is required that a time series to be stationary which means they do not have any seasonality or trends effects. \n",
    "Trends ans seasonality can results in changes in the mean and variance overtime which makes a time series non-stationary. \n",
    "\n",
    "Making a time series stationary, we would not have the mean and variance changing over time and it makes it much easier to model. So, it will be used the differencing method which one of the simple solution to be used. \n",
    "\n",
    "Th differencing method will subtract the previous observation from the current one, this process is called lag-1 difference. The lag difference has a period default parameter which is the integer 1 that can be adjusted according to each temporal structure. (Brownlee)\n",
    "\n",
    "\n"
   ]
  },
  {
   "cell_type": "code",
   "execution_count": null,
   "id": "c33c8442-376d-4fea-8136-587bb5a1b4ae",
   "metadata": {},
   "outputs": [],
   "source": [
    "#The new values of Open column after usinf diff() method with default period of 1. \n",
    "df_stationary = df['Open'].diff(1)\n",
    "\n",
    "df_stationary.head()"
   ]
  },
  {
   "cell_type": "code",
   "execution_count": null,
   "id": "f2d97ce0-f40d-4cfe-8d6d-4db176d66dce",
   "metadata": {},
   "outputs": [],
   "source": [
    "# Drop the first row of 'Close' column because It has 'NaN' value\n",
    "df_stationary = df['Open'].diff(1).dropna()\n",
    "\n",
    "# Display the first five records\n",
    "df_stationary.head()"
   ]
  },
  {
   "cell_type": "code",
   "execution_count": null,
   "id": "fff733f9-c732-49ac-b4f9-262a0821f2d7",
   "metadata": {},
   "outputs": [],
   "source": [
    "# \n",
    "check = adfuller(df['Open'].diff(1).dropna())\n",
    "\n",
    " # Display the outcomes\n",
    "print('ADF Statistic: %f' % check[0])\n",
    "print('p-value: %f' % check[1])\n"
   ]
  },
  {
   "cell_type": "code",
   "execution_count": null,
   "id": "69b906b9-9ff6-4b52-b29f-8cfbdc977d40",
   "metadata": {},
   "outputs": [],
   "source": [
    "# Declare the fig abd ax as two arguments \n",
    "fig, ax = plt.subplots(2, sharex = True)\n",
    "fig.set_size_inches(5.5, 5.5)\n",
    "df['Open'].plot(ax = ax[0], color = 'b')\n",
    "ax[0].set_title('Open values of Bitcoins')\n",
    "df_stationary.plot(ax = ax[1], color = 'r')\n",
    "ax[1].set_title('Differencing Open values Column Bitcoins')"
   ]
  },
  {
   "cell_type": "code",
   "execution_count": null,
   "id": "d6e97b2b-8382-4ab6-9de9-62a24522fd02",
   "metadata": {},
   "outputs": [],
   "source": [
    "#\n",
    "df_order3 = df['Open'].diff(3)\n",
    "\n",
    "df_order3.head()"
   ]
  },
  {
   "cell_type": "code",
   "execution_count": null,
   "id": "0484c281-f9c5-4f62-a8fd-1d3203deda3d",
   "metadata": {},
   "outputs": [],
   "source": [
    "# Drop the first row of 'Open' column because It has 'NaN' value\n",
    "df_order3 = df['Open'].diff(3).dropna()\n",
    "\n",
    "# Display the first five records\n",
    "df_order3.head()"
   ]
  },
  {
   "cell_type": "code",
   "execution_count": null,
   "id": "0db9a084-9a9b-432b-9e1d-a2db1c438361",
   "metadata": {},
   "outputs": [],
   "source": [
    "# Declare the fig abd ax as two arguments \n",
    "fig, ax = plt.subplots(2, sharex = True)\n",
    "fig.set_size_inches(5.5, 5.5)\n",
    "df['Open'].plot(ax = ax[0], color = 'b')\n",
    "ax[0].set_title('Open values of Bitcoins')\n",
    "df_order3.plot(ax = ax[1], color = 'r')\n",
    "ax[1].set_title('Differencing Open values Column Bitcoins')"
   ]
  },
  {
   "cell_type": "code",
   "execution_count": null,
   "id": "f52c58b2-0afe-435a-8fbb-16f651517a35",
   "metadata": {},
   "outputs": [],
   "source": [
    "# plot the data with 50 lags\n",
    "plotds(df_stationary, nlag = 100)\n",
    "\n",
    "# Perform Dicky Fuller test\n",
    "result = adfuller(df_stationary)\n",
    "\n",
    "# Display the outcomes\n",
    "print('ADF Statistic: %f' % result[0])\n",
    "print('p-value: %f' % result[1])"
   ]
  },
  {
   "cell_type": "markdown",
   "id": "be290163-008b-480b-b9b6-a4da2a73a3ab",
   "metadata": {},
   "source": [
    "The arima model notation and parameters is (p, d, q). I have selected the value of d = 1, according to the differencing method used above. \n",
    "\n",
    "In order to decide the value of p and q, I have observed the plot of the Autocorrelation (ACF) for q and the Partial Correlation (PACF) for p. \n",
    "\n",
    "In the ACF plot I see the peaks that are out of the significance area, like for example the O, and 14, also lags 3 and 7 but in a less extent.\n",
    "\n",
    "The PACF plot has high peaks in the lags: 0, 3 and 14. \n",
    "\n",
    "It can be seen that there are few combinations for p and q. On the code below I have tried to run a loop among a range of combinations values that would has the minimum MSE with the prediction. \n",
    "\n",
    "\n"
   ]
  },
  {
   "cell_type": "raw",
   "id": "8d97f9fb-314f-4519-a955-b7cff47578c8",
   "metadata": {},
   "source": [
    "# \n",
    "#from itertools import product\n",
    "#from statsmodels.tsa.arima.model import ARIMA\n",
    "#from sklearn.metrics import mean_squared_error as mse\n",
    "\n",
    "split_idx = df.index[int(len(df) * .8)]\n",
    "open_train = df.loc[:split_idx, 'Open']\n",
    "open_test = df.loc[split_idx:, 'Open']\n",
    "\n",
    "p_range = range(1,4)\n",
    "d_range = range(0,3)\n",
    "q_range = range(1,4)\n",
    "\n",
    "pdq_combinations = list(product(p_range, d_range, q_range))\n",
    "combinations =[]\n",
    "rmses = []\n",
    "\n",
    "#for pdq in pdq_combinations:\n",
    "    #try:\n",
    "        model = ARIMA(open_train, order=pdq).fit()\n",
    "        prediction = model.predict(start=len(open_train), end=len(df))\n",
    "        rmse = np.sqrt(mse(open_test, prediction))\n",
    "        combinations.append(pdq)\n",
    "        rmses.append(rmse)\n",
    "    #except Exception as e:\n",
    "        #continue\n",
    "\n",
    "#results = pd.DataFrame({'combination': combinations, 'rmse': rmses})\n",
    "\n",
    "\n",
    "\n"
   ]
  },
  {
   "cell_type": "code",
   "execution_count": null,
   "id": "08cc860b-c633-4131-9887-867ff2135e7d",
   "metadata": {},
   "outputs": [],
   "source": [
    "#!pip install pmdarima"
   ]
  },
  {
   "cell_type": "code",
   "execution_count": null,
   "id": "dbb33b1e-115d-4c6b-9c90-91a56dd4dab8",
   "metadata": {},
   "outputs": [],
   "source": [
    "from statsmodels.tsa.arima.model import ARIMA\n",
    "from sklearn.metrics import mean_squared_error\n",
    "from pmdarima import auto_arima\n",
    "import numpy as np \n",
    "\n",
    "data = df['Open']\n",
    "\n",
    "train_data = data.iloc[:int(0.8*len(data))]\n",
    "test_data = data.iloc[int(0.8*len(data)):]\n",
    "\n",
    "\n",
    "model = auto_arima(train_data, seasonal=False, trace=True, error_action='ignore', suppress_warnings=True)\n",
    "\n",
    "predictions = model.predict(len(test_data))\n",
    "\n",
    "rmse = np.sqrt(mean_squared_error(test_data, predictions))\n",
    "print('RMSE', rmse)\n",
    "\n",
    "model.summary()\n"
   ]
  },
  {
   "cell_type": "code",
   "execution_count": null,
   "id": "a6e24978-f145-45d1-a73b-90be4de9ffeb",
   "metadata": {},
   "outputs": [],
   "source": [
    "# Declare and initialise an object 'arima_df' by calling a method 'ARIMA()'\n",
    "arima_df = ARIMA(df['Open'].tolist(), order = (0, 1, 0))\n",
    "\n",
    "# d = 1, the number of times that the raw observations are differenced, also called the degree of differencing.\n",
    "\n",
    "# Train the ARIMA model by calling a method fit()\n",
    "arima_df_fit = arima_df.fit()\n"
   ]
  },
  {
   "cell_type": "code",
   "execution_count": null,
   "id": "0d7a0d3b-9f4b-4349-be0b-9986b151adcd",
   "metadata": {},
   "outputs": [],
   "source": [
    "display(arima_df_fit.summary())\n",
    "arima_df_fit.plot_diagnostics(figsize=(12,6));"
   ]
  },
  {
   "cell_type": "code",
   "execution_count": null,
   "id": "126a24c5-4dd2-461f-bdba-0a6979dedfa9",
   "metadata": {},
   "outputs": [],
   "source": [
    "# Declare the array 'pred' and append the values \n",
    "pred = arima_df_fit.fittedvalues\n",
    "\n",
    "# Add a new column 'ARIMA' into dataframe\n",
    "df['ARIMA'] = pred\n",
    "\n",
    "# Residues and fitted values are added and stored into dataframe\n",
    "diffval = arima_df_fit.resid + arima_df_fit.fittedvalues\n",
    "\n",
    "# Add a column 'diffval' into dataframe\n",
    "df['diffval'] = diffval\n",
    "\n",
    "# Display first five records\n",
    "df.head()"
   ]
  },
  {
   "cell_type": "code",
   "execution_count": null,
   "id": "1c9b36c6-d854-4e47-a07b-de08acc8beef",
   "metadata": {},
   "outputs": [],
   "source": [
    "# Q-Q plot of the quantiles of x versus the quantiles/ppf of a distribution.\n",
    "# Call qqplot() for arima_obj_fit\n",
    "fig, ax = plt.subplots(figsize=(6, 6))\n",
    "\n",
    "# Remove the first and last point from residuals\n",
    "residuals = arima_df_fit.resid[1:]\n",
    "\n",
    "sm.qqplot(residuals, line='s', ax=ax)\n",
    "plt.show()"
   ]
  },
  {
   "cell_type": "code",
   "execution_count": null,
   "id": "d8625a39-4365-4056-b8f2-9745a53f93b8",
   "metadata": {},
   "outputs": [],
   "source": [
    "# Declare the objects f and array axarr\n",
    "f, axarr = plt.subplots(1, sharex=True)\n",
    "f.set_size_inches(5.5, 5.5)\n",
    "\n",
    "# Ignore first two rows because of difference factor d = 2\n",
    "df['diffval'].iloc[1:].plot(color='b', linestyle='-', ax=axarr, label='Actual')\n",
    "df['ARIMA'].iloc[1:].plot(color='r', linestyle='--', ax=axarr, label='ARIMA Forecast')\n",
    "axarr.set_title('ARIMA(0, 1, 0)')\n",
    "axarr.set_xlabel('Index')\n",
    "axarr.set_ylabel('Closing')\n",
    "axarr.legend()  # Add legend\n",
    "\n",
    "plt.show()"
   ]
  },
  {
   "cell_type": "code",
   "execution_count": null,
   "id": "e0741ffe-06f6-41b9-9af9-53b9f76fb857",
   "metadata": {},
   "outputs": [],
   "source": [
    "result = arima_df_fit.get_forecast()\n",
    "forecast = result.predicted_mean\n",
    "\n",
    "# summarize confidence intervals\n",
    "intervals = [0.2, 0.1, 0.05, 0.01]\n",
    "\n",
    "for a in intervals:\n",
    "    ci = result.conf_int(alpha=a)\n",
    "    print('%.1f%% Confidence Interval: %.3f between %.3f and %.3f' % ((1-a)*100, forecast, ci[0, 0], ci[0,1]))"
   ]
  },
  {
   "cell_type": "code",
   "execution_count": null,
   "id": "5e9cc83b-b072-40bd-af52-0e7ab442b5db",
   "metadata": {},
   "outputs": [],
   "source": []
  }
 ],
 "metadata": {
  "kernelspec": {
   "display_name": "Python 3 (ipykernel)",
   "language": "python",
   "name": "python3"
  },
  "language_info": {
   "codemirror_mode": {
    "name": "ipython",
    "version": 3
   },
   "file_extension": ".py",
   "mimetype": "text/x-python",
   "name": "python",
   "nbconvert_exporter": "python",
   "pygments_lexer": "ipython3",
   "version": "3.11.0"
  }
 },
 "nbformat": 4,
 "nbformat_minor": 5
}
